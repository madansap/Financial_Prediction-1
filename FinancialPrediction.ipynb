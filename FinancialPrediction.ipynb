{
  "nbformat": 4,
  "nbformat_minor": 0,
  "metadata": {
    "colab": {
      "name": "FinancialPrediction.ipynb",
      "provenance": [],
      "authorship_tag": "ABX9TyNOLJDtq8N5n4v9cYDWwmD+",
      "include_colab_link": true
    },
    "kernelspec": {
      "name": "python3",
      "display_name": "Python 3"
    },
    "language_info": {
      "name": "python"
    },
    "accelerator": "GPU"
  },
  "cells": [
    {
      "cell_type": "markdown",
      "metadata": {
        "id": "view-in-github",
        "colab_type": "text"
      },
      "source": [
        "<a href=\"https://colab.research.google.com/github/madansap/Financial_Prediction-1/blob/main/FinancialPrediction.ipynb\" target=\"_parent\"><img src=\"https://colab.research.google.com/assets/colab-badge.svg\" alt=\"Open In Colab\"/></a>"
      ]
    },
    {
      "cell_type": "markdown",
      "source": [
        "#Retriving  the Data \n",
        "\n",
        "Download it [manually](https://https://www.kaggle.com/mczielinski/bitcoin-historical-data) or retrieve the data with the API following the [documentation](https://https://www.kaggle.com/docs/api). The command would be:\n",
        "\n",
        "`kaggle datasets download -d mczielinski/bitcoin-historical-data`\n",
        "\n",
        "The Data also can be retrived in github"
      ],
      "metadata": {
        "id": "7gc7LKkuLCzn"
      }
    },
    {
      "cell_type": "code",
      "execution_count": null,
      "metadata": {
        "id": "z5qU5Aw7IbQU"
      },
      "outputs": [],
      "source": [
        ""
      ]
    }
  ]
}